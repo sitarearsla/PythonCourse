{
 "cells": [
  {
   "cell_type": "code",
   "execution_count": 11,
   "metadata": {},
   "outputs": [],
   "source": [
    "import pandas as pd\n",
    "import requests\n",
    "from bs4 import BeautifulSoup\n",
    "from csv import writer\n",
    "from linear_regression import linear_regression"
   ]
  },
  {
   "cell_type": "markdown",
   "metadata": {},
   "source": [
    "# Apple Inc. Stock Analysis"
   ]
  },
  {
   "cell_type": "markdown",
   "metadata": {},
   "source": [
    "## Option 1: Web Scraping from Yahoo Finance Webpage \n",
    "##### 3 months data"
   ]
  },
  {
   "cell_type": "code",
   "execution_count": 12,
   "metadata": {},
   "outputs": [
    {
     "data": {
      "text/plain": [
       "'Data Scraped and Saved'"
      ]
     },
     "execution_count": 12,
     "metadata": {},
     "output_type": "execute_result"
    }
   ],
   "source": [
    "def scrape_data():\n",
    "    response = requests.get(\"https://finance.yahoo.com/quote/AAPL/history?p=AAPL\")\n",
    "    soup = BeautifulSoup(response.text, \"html.parser\")\n",
    "    articles = soup.find_all(class_=\"BdT\")\n",
    "    with open(\"stock_data.csv\", \"w\") as csv_file:\n",
    "        csv_writer = writer(csv_file)\n",
    "        csv_writer.writerow([\"date\", \"stock_open\", \"stock_high\", \"stock_low\", \"stock_close\"])\n",
    "        for article in articles:\n",
    "            if article.next_sibling is not None:\n",
    "                date = article.find(class_=\"Pend(10px)\").get_text()\n",
    "                values = article.find_all(class_=\"Pstart(10px)\")\n",
    "                if values[0].next_sibling is None:\n",
    "                    dividend = values[0].get_text()\n",
    "                else:\n",
    "                    stock_open = values[0].get_text()\n",
    "                    stock_high = values[1].get_text()\n",
    "                    stock_low = values[2].get_text()\n",
    "                    stock_close = values[3].get_text()\n",
    "                    csv_writer.writerow([date, stock_open, stock_high, stock_low, stock_close])\n",
    "    return \"Data Scraped and Saved\"\n",
    "scrape_data()"
   ]
  },
  {
   "cell_type": "code",
   "execution_count": 13,
   "metadata": {},
   "outputs": [],
   "source": [
    "def get_data():\n",
    "    df = pd.read_csv('stock_data.csv')\n",
    "    X = df[['stock_open', 'stock_high', 'stock_low']]\n",
    "    y = df['stock_close']\n",
    "    return X, y"
   ]
  },
  {
   "cell_type": "code",
   "execution_count": 14,
   "metadata": {},
   "outputs": [],
   "source": [
    "X, y = get_data()"
   ]
  },
  {
   "cell_type": "markdown",
   "metadata": {},
   "source": [
    "## Option 2: Using pandas-datareader to read Yahoo Financial Data\n",
    "##### Yearly data"
   ]
  },
  {
   "cell_type": "code",
   "execution_count": 15,
   "metadata": {},
   "outputs": [],
   "source": [
    "from pandas_datareader import data\n",
    "X, y = None, None"
   ]
  },
  {
   "cell_type": "code",
   "execution_count": 16,
   "metadata": {},
   "outputs": [],
   "source": [
    "aapl = data.DataReader('AAPL', start='2019', end='2020',data_source='yahoo')"
   ]
  },
  {
   "cell_type": "code",
   "execution_count": 17,
   "metadata": {},
   "outputs": [],
   "source": [
    "aapl.to_csv(\"hw2_data.csv\")"
   ]
  },
  {
   "cell_type": "code",
   "execution_count": 18,
   "metadata": {},
   "outputs": [],
   "source": [
    "X = aapl[['High','Low','Open']]\n",
    "y = aapl['Close']"
   ]
  },
  {
   "cell_type": "markdown",
   "metadata": {},
   "source": [
    "## Performing Regression on the Data Set"
   ]
  },
  {
   "cell_type": "code",
   "execution_count": 19,
   "metadata": {},
   "outputs": [],
   "source": [
    "B_hat, standard_error, CI_lower, CI_upper, X_processed, y_processed = linear_regression(X,y)"
   ]
  },
  {
   "cell_type": "markdown",
   "metadata": {},
   "source": [
    "## Print-out Regression Table"
   ]
  },
  {
   "cell_type": "code",
   "execution_count": 20,
   "metadata": {},
   "outputs": [
    {
     "name": "stdout",
     "output_type": "stream",
     "text": [
      "      B_hat  Standard Error  Lower 95%  Upper 95%\n",
      "0 -0.625701        0.451992  -1.515935   0.264532\n",
      "1  0.757666        0.053441   0.652410   0.862921\n",
      "2  0.719667        0.048873   0.623408   0.815926\n",
      "3 -0.474085        0.058895  -0.590083  -0.358086\n"
     ]
    }
   ],
   "source": [
    "df = pd.DataFrame(list(zip(B_hat, standard_error, CI_lower, CI_upper)), \n",
    "               columns =['B_hat', 'Standard Error', 'Lower 95%', 'Upper 95%']) \n",
    "print(df)"
   ]
  },
  {
   "cell_type": "code",
   "execution_count": null,
   "metadata": {},
   "outputs": [],
   "source": []
  }
 ],
 "metadata": {
  "kernelspec": {
   "display_name": "Python 3",
   "language": "python",
   "name": "python3"
  },
  "language_info": {
   "codemirror_mode": {
    "name": "ipython",
    "version": 3
   },
   "file_extension": ".py",
   "mimetype": "text/x-python",
   "name": "python",
   "nbconvert_exporter": "python",
   "pygments_lexer": "ipython3",
   "version": "3.7.3"
  }
 },
 "nbformat": 4,
 "nbformat_minor": 2
}
